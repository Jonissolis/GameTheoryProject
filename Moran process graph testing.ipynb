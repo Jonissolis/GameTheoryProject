{
 "cells": [
  {
   "cell_type": "code",
   "execution_count": 2,
   "metadata": {},
   "outputs": [],
   "source": [
    "import axelrod as axl\n",
    "from axelrod.graph import Graph"
   ]
  },
  {
   "cell_type": "markdown",
   "metadata": {},
   "source": [
    "We will compare the Moran process with and without a graph and see that for a fully connected graph it is equivalent to the vanilla Moran process. Who would expect otherwise?"
   ]
  },
  {
   "cell_type": "code",
   "execution_count": 4,
   "metadata": {},
   "outputs": [
    {
     "name": "stdout",
     "output_type": "stream",
     "text": [
      "[[6.0, 6.0, 6.995, 11.02], [7.02, 3.0, 4.99, 7.02], [3.02, 3.02, 2.985, 3.02], [3.02, 3.02, 2.985, 3.02], [4.99, 3.04, 4.99, 3.04], [4.99, 3.04, 4.99, 3.04], [6.995, 6.995, 6.995, 3.06], [6.995, 6.995, 6.995, 3.06]]\n",
      "Counter({'Tit For Tat': 4})\n"
     ]
    }
   ],
   "source": [
    "# Moran with fully connected graph\n",
    "axl.seed(42)\n",
    "edges = [(0,1),(0,2),(0,3),(1,2),(1,3),(2,3)]\n",
    "graph = Graph(edges)\n",
    "players = [axl.Cooperator(), axl.Cooperator(), axl.TitForTat(), axl.Defector()]\n",
    "mp = axl.MoranProcess(players, interaction_graph=graph)\n",
    "results = mp.play()\n",
    "print(mp.score_history)\n",
    "print(mp.population_distribution())"
   ]
  },
  {
   "cell_type": "code",
   "execution_count": 6,
   "metadata": {},
   "outputs": [
    {
     "name": "stdout",
     "output_type": "stream",
     "text": [
      "[[6.0, 6.0, 6.995, 11.02], [7.02, 3.0, 4.99, 7.02], [3.02, 3.02, 2.985, 3.02], [3.02, 3.02, 2.985, 3.02], [4.99, 3.04, 4.99, 3.04], [4.99, 3.04, 4.99, 3.04], [6.995, 6.995, 6.995, 3.06], [6.995, 6.995, 6.995, 3.06]]\n",
      "Counter({'Tit For Tat': 4})\n"
     ]
    }
   ],
   "source": [
    "# Vanilla Moran\n",
    "axl.seed(42)\n",
    "players = [axl.Cooperator(), axl.Cooperator(), axl.TitForTat(), axl.Defector()]\n",
    "mp = axl.MoranProcess(players)\n",
    "results = mp.play()\n",
    "print(mp.score_history)\n",
    "print(mp.population_distribution())"
   ]
  },
  {
   "cell_type": "markdown",
   "metadata": {},
   "source": [
    "Well, this has been fun."
   ]
  },
  {
   "cell_type": "code",
   "execution_count": null,
   "metadata": {},
   "outputs": [],
   "source": []
  }
 ],
 "metadata": {
  "kernelspec": {
   "display_name": "Python 3",
   "language": "python",
   "name": "python3"
  },
  "language_info": {
   "codemirror_mode": {
    "name": "ipython",
    "version": 3
   },
   "file_extension": ".py",
   "mimetype": "text/x-python",
   "name": "python",
   "nbconvert_exporter": "python",
   "pygments_lexer": "ipython3",
   "version": "3.6.2"
  }
 },
 "nbformat": 4,
 "nbformat_minor": 2
}
