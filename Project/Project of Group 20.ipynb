{
 "cells": [
  {
   "cell_type": "markdown",
   "metadata": {},
   "source": [
    "# Project of Group 20- Evolutionary strategies in Prisoner's Dilemma: an exploration using multi-agent simulation\n",
    "We aim to explore a simulation of agents interacting by playing a simple game, with the rules according to the prisoner's dilemma. We will try to expand the rules of the game and also add different qualities to the agents themselves such as memory and ability to exchange information with each other. We will also attempt to allow for evolving strategies.<br>\n",
    "The goal is to examine the possible, stable strategies that emerge and how prevelant those strategies are in various settings.<br>\n",
    "\n",
    "## Agent strategy\n",
    "\n",
    "### Basic strategies\n",
    "- Cooperator: A player who only ever cooperates.<br>\n",
    "- Defector: A player who only ever defects.<br>\n",
    "- TipForTat: A player starts by cooperating and then mimics the previous action of the opponent ([Axelrod1980](http://axelrod.readthedocs.io/en/stable/reference/bibliography.html#axelrod1980)).\n",
    "\n",
    "### Advanced strategies\n",
    "- Adaptive: A player who starts with a specific sequence of cooperate (C) and defect (D), then play the strategy that has worked best, recalculated each turn ([Li2011](http://axelrod.readthedocs.io/en/stable/reference/bibliography.html#li2011)).<br>\n",
    "- ANN: Artificial Neural Network based strategy ([Original Source](https://gist.github.com/mojones/550b32c46a8169bb3cd89d917b73111a#file-ann-strategy-test-L60)).<br>\n",
    "- EvolvedANN: A strategy based on a pre-trained neural network with 17 features and a hidden layer of size 10 (Evolved ANN: Original name by Martin Jones, see above).<br>\n",
    "\n",
    "More can be found in [Axelrod-Reference-Strategies index](http://axelrod.readthedocs.io/en/stable/reference/all_strategies.html).\n",
    "\n",
    "## Noisy tournaments (the probability of making mistake is not zero)\n",
    "A common variation on iterated prisoner’s dilemma tournaments is to add stochasticity in the choice of actions, simply called noise. This noise is introduced by flipping plays between C and D with some probability that is applied to all plays after they are delivered by the player ([Bendor1993](http://axelrod.readthedocs.io/en/stable/reference/bibliography.html#bendor1993)).<br><br>\n",
    "(Source: [Noisy tournaments](http://axelrod.readthedocs.io/en/stable/tutorials/further_topics/noisy_tournaments.html#noisy-tournaments))\n",
    "\n",
    "## [Moran process](https://en.wikipedia.org/wiki/Moran_process) (the natural selection process)\n",
    "The process works as follows. Given an initial population of players, the population is iterated in rounds consisting of:<br>\n",
    "\n",
    "- matches played between each pair of players, with the cumulative total scores recorded\n",
    "- a player is chosen to reproduce proportional to the player’s score in the round\n",
    "- a player is chosen at random to be replaced\n",
    "\n",
    "## A preliminary exploration using [Axelrod package](http://axelrod.readthedocs.io/en/stable/index.html)\n",
    "The package is the python package named after the author of book \"The Complexity of Cooperation.\""
   ]
  },
  {
   "cell_type": "markdown",
   "metadata": {},
   "source": [
    "### 1. An iterated population-wise tournament considering noise and natural selection"
   ]
  },
  {
   "cell_type": "code",
   "execution_count": 10,
   "metadata": {},
   "outputs": [],
   "source": [
    "# Load required packages\n",
    "import axelrod as axl\n",
    "import pandas as pd\n",
    "import numpy as np\n",
    "import matplotlib.pyplot as plt\n",
    "import matplotlib\n",
    "#To make it pretty\n",
    "matplotlib.style.use('seaborn-colorblind')\n",
    "font = {'size' : 14}\n",
    "matplotlib.rc('font', **font)"
   ]
  },
  {
   "cell_type": "code",
   "execution_count": 16,
   "metadata": {},
   "outputs": [],
   "source": [
    "# Initialization of players and noise\n",
    "noise = 0.1\n",
    "population_size = 20\n",
    "number_Defector = 6\n",
    "number_Cooperator = 6\n",
    "number_TitForTat = 6\n",
    "number_Adaptive = population_size - number_Defector - number_Cooperator - number_TitForTat\n",
    "players = [axl.Defector()]*number_Defector + [axl.Cooperator()]*number_Cooperator + [axl.TitForTat()]*number_TitForTat + [axl.Adaptive()]*number_Adaptive"
   ]
  },
  {
   "cell_type": "code",
   "execution_count": 17,
   "metadata": {},
   "outputs": [
    {
     "name": "stdout",
     "output_type": "stream",
     "text": [
      "Winning population: Tit For Tat\n"
     ]
    },
    {
     "data": {
      "image/png": "[encoded data removed]",
      "text/plain": [
       "<matplotlib.figure.Figure at 0x234adec3ba8>"
      ]
     },
     "metadata": {},
     "output_type": "display_data"
    }
   ],
   "source": [
    "# 1- A simulation\n",
    "axl.seed(15) # for reproducible example\n",
    "mp = axl.MoranProcess(players=players, turns=200, noise=noise)\n",
    "populations = mp.play()\n",
    "print('Winning population: '+mp.winning_strategy_name)\n",
    "ax = mp.populations_plot()\n",
    "plt.show()"
   ]
  },
  {
   "cell_type": "markdown",
   "metadata": {},
   "source": [
    "### 2. Exploring the impact of noise on the winning strategy"
   ]
  },
  {
   "cell_type": "code",
   "execution_count": 6,
   "metadata": {},
   "outputs": [],
   "source": [
    "# Initialization of players\n",
    "population_size = 10\n",
    "number_Defector = 3\n",
    "number_Cooperator = 3\n",
    "number_TitForTat = 3\n",
    "number_Adaptive = population_size - number_Defector - number_Cooperator - number_TitForTat\n",
    "players = [axl.Defector()]*number_Defector + [axl.Cooperator()]*number_Cooperator + [axl.TitForTat()]*number_TitForTat + [axl.Adaptive()]*number_Adaptive"
   ]
  },
  {
   "cell_type": "code",
   "execution_count": 15,
   "metadata": {},
   "outputs": [
    {
     "name": "stdout",
     "output_type": "stream",
     "text": [
      "         Strategy\n",
      "Noise            \n",
      "0.0      Adaptive\n",
      "0.1      Defector\n",
      "0.2      Defector\n",
      "0.3      Defector\n",
      "0.4      Defector\n",
      "0.5      Defector\n",
      "0.6      Defector\n",
      "0.7    Cooperator\n",
      "0.8    Cooperator\n",
      "0.9    Cooperator\n",
      "1.0    Cooperator\n"
     ]
    }
   ],
   "source": [
    "# Winning strategy as a function of noise\n",
    "winner_record = dict()\n",
    "for noise in np.arange(0,1.1,0.1):\n",
    "    axl.seed(15) # for reproducible example\n",
    "    mp = axl.MoranProcess(players=players, turns=200, noise=noise)\n",
    "    populations = mp.play()\n",
    "    winner_record[noise]=mp.winning_strategy_name\n",
    "winner_record = pd.DataFrame([winner_record]).transpose()\n",
    "winner_record.index.names = ['Noise']\n",
    "winner_record.columns = ['Strategy']\n",
    "print(winner_record)"
   ]
  },
  {
   "cell_type": "code",
   "execution_count": null,
   "metadata": {},
   "outputs": [],
   "source": []
  }
 ],
 "metadata": {
  "kernelspec": {
   "display_name": "Python 3",
   "language": "python",
   "name": "python3"
  },
  "language_info": {
   "codemirror_mode": {
    "name": "ipython",
    "version": 3
   },
   "file_extension": ".py",
   "mimetype": "text/x-python",
   "name": "python",
   "nbconvert_exporter": "python",
   "pygments_lexer": "ipython3",
   "version": "3.6.1"
  }
 },
 "nbformat": 4,
 "nbformat_minor": 2
}
